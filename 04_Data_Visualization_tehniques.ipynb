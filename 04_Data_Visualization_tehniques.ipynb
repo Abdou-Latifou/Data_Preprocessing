{
 "cells": [
  {
   "cell_type": "markdown",
   "id": "777c37b6",
   "metadata": {},
   "source": [
    "<h1 style=\"text-align: center;\">Data Visualization with Matplotlib and Seaborn</h1>\n",
    "\n",
    "**Instructor:**\n",
    "\n",
    "*Rockefeller*"
   ]
  },
  {
   "cell_type": "markdown",
   "id": "771511e5",
   "metadata": {},
   "source": [
    "# Introduction\n",
    "\n",
    "Data visualization plays a crucial role in the data preprocessing and analysis process. It helps in understanding patterns, relationships, and trends within the data, making it easier to extract insights that support decision-making.\n",
    "\n",
    "In this notebook, we will explore various visualization techniques using **Matplotlib** and **Seaborn**."
   ]
  },
  {
   "cell_type": "markdown",
   "id": "46dca527",
   "metadata": {},
   "source": [
    "**Learning Objectives:**\n",
    "\n",
    "* Understand how to visualize data using Matplotlib and Seaborn.\n",
    "* Learn to interpret different types of plots.\n",
    "* Use visualizations to extract insights from data for better decision-making."
   ]
  },
  {
   "cell_type": "markdown",
   "id": "f3da9d95",
   "metadata": {},
   "source": [
    "You are provided with a dataset containing agricultural data. The dataset includes information about crop yields, the amount of fertilizer used, the size of the fields, the season, the type of crop, the type of soil, and whether irrigation was used. Your task is to use this dataset to practice your data visualization skills in order to gain an understanding of different visuals to communicate to an audience, using seaborn and matplotlib."
   ]
  },
  {
   "cell_type": "code",
   "execution_count": 6,
   "id": "25cb8e08",
   "metadata": {},
   "outputs": [],
   "source": []
  },
  {
   "cell_type": "code",
   "execution_count": 2,
   "id": "d6f9f38b",
   "metadata": {},
   "outputs": [
    {
     "name": "stderr",
     "output_type": "stream",
     "text": [
      "Matplotlib is building the font cache; this may take a moment.\n"
     ]
    }
   ],
   "source": [
    "import seaborn as sns\n",
    "import pandas as pd\n",
    "import matplotlib.pyplot as plt"
   ]
  },
  {
   "cell_type": "code",
   "execution_count": 7,
   "id": "a5c33a5c",
   "metadata": {},
   "outputs": [
    {
     "data": {
      "text/html": [
       "<div>\n",
       "<style scoped>\n",
       "    .dataframe tbody tr th:only-of-type {\n",
       "        vertical-align: middle;\n",
       "    }\n",
       "\n",
       "    .dataframe tbody tr th {\n",
       "        vertical-align: top;\n",
       "    }\n",
       "\n",
       "    .dataframe thead th {\n",
       "        text-align: right;\n",
       "    }\n",
       "</style>\n",
       "<table border=\"1\" class=\"dataframe\">\n",
       "  <thead>\n",
       "    <tr style=\"text-align: right;\">\n",
       "      <th></th>\n",
       "      <th>crop_yield</th>\n",
       "      <th>fertilizer_amount</th>\n",
       "      <th>soil_type</th>\n",
       "      <th>irrigation</th>\n",
       "      <th>crop_type</th>\n",
       "      <th>season</th>\n",
       "      <th>Field_size</th>\n",
       "      <th>Farmer_Age</th>\n",
       "      <th>Pesticide_Conc</th>\n",
       "    </tr>\n",
       "  </thead>\n",
       "  <tbody>\n",
       "    <tr>\n",
       "      <th>0</th>\n",
       "      <td>29.85</td>\n",
       "      <td>5.14</td>\n",
       "      <td>Sandy</td>\n",
       "      <td>Not Irrigated</td>\n",
       "      <td>Beans</td>\n",
       "      <td>Rainy</td>\n",
       "      <td>42.42</td>\n",
       "      <td>56</td>\n",
       "      <td>75.474042</td>\n",
       "    </tr>\n",
       "    <tr>\n",
       "      <th>1</th>\n",
       "      <td>14.48</td>\n",
       "      <td>2.00</td>\n",
       "      <td>Clay</td>\n",
       "      <td>Irrigated</td>\n",
       "      <td>Beans</td>\n",
       "      <td>Rainy</td>\n",
       "      <td>21.08</td>\n",
       "      <td>50</td>\n",
       "      <td>73.794585</td>\n",
       "    </tr>\n",
       "    <tr>\n",
       "      <th>2</th>\n",
       "      <td>13.03</td>\n",
       "      <td>2.00</td>\n",
       "      <td>Clay</td>\n",
       "      <td>Not Irrigated</td>\n",
       "      <td>Wheat</td>\n",
       "      <td>Dry</td>\n",
       "      <td>57.63</td>\n",
       "      <td>41</td>\n",
       "      <td>53.033983</td>\n",
       "    </tr>\n",
       "    <tr>\n",
       "      <th>3</th>\n",
       "      <td>10.07</td>\n",
       "      <td>1.25</td>\n",
       "      <td>Clay</td>\n",
       "      <td>Not Irrigated</td>\n",
       "      <td>Rice</td>\n",
       "      <td>Rainy</td>\n",
       "      <td>30.86</td>\n",
       "      <td>49</td>\n",
       "      <td>36.932654</td>\n",
       "    </tr>\n",
       "    <tr>\n",
       "      <th>4</th>\n",
       "      <td>17.07</td>\n",
       "      <td>3.00</td>\n",
       "      <td>Sandy</td>\n",
       "      <td>Not Irrigated</td>\n",
       "      <td>Rice</td>\n",
       "      <td>Rainy</td>\n",
       "      <td>36.84</td>\n",
       "      <td>45</td>\n",
       "      <td>78.191782</td>\n",
       "    </tr>\n",
       "  </tbody>\n",
       "</table>\n",
       "</div>"
      ],
      "text/plain": [
       "   crop_yield  fertilizer_amount soil_type     irrigation crop_type season  \\\n",
       "0       29.85               5.14     Sandy  Not Irrigated     Beans  Rainy   \n",
       "1       14.48               2.00      Clay      Irrigated     Beans  Rainy   \n",
       "2       13.03               2.00      Clay  Not Irrigated     Wheat    Dry   \n",
       "3       10.07               1.25      Clay  Not Irrigated      Rice  Rainy   \n",
       "4       17.07               3.00     Sandy  Not Irrigated      Rice  Rainy   \n",
       "\n",
       "   Field_size  Farmer_Age  Pesticide_Conc  \n",
       "0       42.42          56       75.474042  \n",
       "1       21.08          50       73.794585  \n",
       "2       57.63          41       53.033983  \n",
       "3       30.86          49       36.932654  \n",
       "4       36.84          45       78.191782  "
      ]
     },
     "execution_count": 7,
     "metadata": {},
     "output_type": "execute_result"
    }
   ],
   "source": [
    "agri_df = pd.read_csv('data/agri_data.csv')\n",
    "agri_df.head()"
   ]
  },
  {
   "cell_type": "code",
   "execution_count": 4,
   "id": "bd402496",
   "metadata": {},
   "outputs": [],
   "source": [
    "agri_df.to_csv('data/agri_data.csv', index=False)"
   ]
  },
  {
   "cell_type": "markdown",
   "id": "4bac821c",
   "metadata": {},
   "source": [
    "## 1. Bar Chart\n"
   ]
  },
  {
   "cell_type": "markdown",
   "id": "ac8baab6",
   "metadata": {
    "vscode": {
     "languageId": "markdown"
    }
   },
   "source": [
    "A **bar chart** displays the distribution of categorical data. It shows the frequency or count of the categories. In the context of the current dataset, a bar chart can be used to visualize \n",
    "\n",
    "* The distribution of different crop types,\n",
    "* The distribution of soil types, seasons, or irrigation methods. \n",
    "\n",
    "\n",
    "For example, it can show how many fields are planted with each type of crop, the count of fields with different soil types, the number of fields in each season, or the frequency of fields that are irrigated versus not irrigate\n"
   ]
  },
  {
   "cell_type": "code",
   "execution_count": 5,
   "id": "d188f3aa",
   "metadata": {},
   "outputs": [
    {
     "data": {
      "image/png": "[encoded data removed]",
      "text/plain": [
       "<Figure size 1000x500 with 1 Axes>"
      ]
     },
     "metadata": {},
     "output_type": "display_data"
    }
   ],
   "source": [
    "import seaborn as sns\n",
    "\n",
    "import matplotlib.pyplot as plt\n",
    "\n",
    "# Distribution of different crop types\n",
    "plt.figure(figsize=(10,5))\n",
    "sns.countplot(x='crop_type', hue='crop_type' ,   data=agri_df, palette='viridis')\n",
    "plt.title('Distribution of Different Crop Types')\n",
    "plt.xlabel('Crop Type')\n",
    "plt.ylabel('Count')\n",
    "plt.show()\n"
   ]
  },
  {
   "cell_type": "code",
   "execution_count": 6,
   "id": "d797690e",
   "metadata": {},
   "outputs": [
    {
     "data": {
      "image/png": "[encoded data removed]",
      "text/plain": [
       "<Figure size 1000x400 with 1 Axes>"
      ]
     },
     "metadata": {},
     "output_type": "display_data"
    }
   ],
   "source": [
    "# Distribution of soil types\n",
    "plt.figure(figsize=(10, 4))\n",
    "sns.countplot(x='soil_type', hue='soil_type', data=agri_df, palette='rocket', legend=False)\n",
    "plt.title('Distribution of Soil Types')\n",
    "plt.xlabel('Soil Type')\n",
    "plt.ylabel('Count')\n",
    "plt.show()"
   ]
  },
  {
   "cell_type": "code",
   "execution_count": null,
   "id": "629732dc",
   "metadata": {},
   "outputs": [],
   "source": [
    "\n",
    "\n",
    "\n",
    "# Distribution of seasons\n",
    "plt.figure(figsize=(10, 4))\n",
    "sns.countplot(x='season', hue=\"season\" , data=agri_df, palette='deep')\n",
    "plt.title('Distribution of Seasons')\n",
    "plt.xlabel('Season')\n",
    "plt.ylabel('Count')\n",
    "plt.show()\n",
    "\n"
   ]
  },
  {
   "cell_type": "code",
   "execution_count": null,
   "id": "2030eff7",
   "metadata": {},
   "outputs": [],
   "source": [
    "# Distribution of irrigation methods\n",
    "plt.figure(figsize=(10, 4))\n",
    "sns.countplot(x='irrigation', hue='irrigation',  data=agri_df, palette='cubehelix')\n",
    "plt.title('Distribution of Irrigation Methods')\n",
    "plt.xlabel('Irrigation')\n",
    "plt.ylabel('Count')\n",
    "plt.show()"
   ]
  },
  {
   "cell_type": "markdown",
   "id": "c0fae60e",
   "metadata": {},
   "source": [
    "\n",
    "**Insights Conveyed:**\n",
    "- Frequency or count of categories\n",
    "- Comparison between different categorical groups\n",
    "\n",
    "**Pros:**\n",
    "- Easy to interpret\n",
    "- Useful for comparing discrete categories\n",
    "- Simple to create and understand\n",
    "\n",
    "**Cons:**\n",
    "- Not ideal for large datasets with many categories\n",
    "- Can be misleading if not scaled properly\n",
    "\n",
    "**When to Use:**\n",
    "- When comparing different categories or groups\n",
    "- When showing proportions or counts\n",
    "\n",
    "**When Not to Use:**\n",
    "- When visualizing continuous data\n",
    "- When dealing with too many categories (cluttered bars)"
   ]
  },
  {
   "cell_type": "markdown",
   "id": "a7427e75",
   "metadata": {},
   "source": [
    "## 2. Histogram\n"
   ]
  },
  {
   "cell_type": "markdown",
   "id": "5f34e56d",
   "metadata": {
    "vscode": {
     "languageId": "markdown"
    }
   },
   "source": [
    "A **histogram** shows the distribution of a numerical variable by dividing the data into bins and counting the number of observations in each bin. In the context of the current dataset, a histogram can be used to visualize:\n",
    "\n",
    "* The distribution of crop yields,\n",
    "* The distribution of fertilizer amounts,\n",
    "* The distribution of field sizes.\n",
    "\n",
    "For example, it can show how crop yields are distributed across different fields, the range of fertilizer amounts used, or the sizes of the fields."
   ]
  },
  {
   "cell_type": "code",
   "execution_count": null,
   "id": "70214df2",
   "metadata": {},
   "outputs": [],
   "source": [
    "# Histogram for the distribution of crop yields\n",
    "plt.figure(figsize=(8,6))\n",
    "plt.hist(agri_df['crop_yield'], bins=20, color='skyblue', edgecolor='black')\n",
    "plt.title('Distribution of Crop Yields')\n",
    "plt.xlabel('Crop Yield')\n",
    "plt.ylabel('Frequency')\n",
    "plt.show()"
   ]
  },
  {
   "cell_type": "code",
   "execution_count": null,
   "id": "3f8b99c5",
   "metadata": {},
   "outputs": [],
   "source": [
    "# Histogram for the distribution of crop yields\n",
    "plt.figure(figsize=(8,6))\n",
    "plt.hist(agri_df['crop_yield'], bins=20, color='red', edgecolor='black')\n",
    "plt.title('Distribution of Crop Yields')\n",
    "plt.xlabel('Crop Yield')\n",
    "plt.ylabel('Frequency')\n",
    "plt.show()\n"
   ]
  },
  {
   "cell_type": "code",
   "execution_count": null,
   "id": "28e28d6c",
   "metadata": {},
   "outputs": [],
   "source": [
    "# Histogram for the distribution of field sizes\n",
    "plt.figure(figsize=(8,6))\n",
    "plt.hist(agri_df['Field_size'], bins=20, color='salmon', edgecolor='black')\n",
    "plt.title('Distribution of Field Sizes')\n",
    "plt.xlabel('Field Size')\n",
    "plt.ylabel('Frequency')\n",
    "plt.show()"
   ]
  },
  {
   "cell_type": "markdown",
   "id": "4a7def46",
   "metadata": {},
   "source": [
    "**Insights Conveyed:**\n",
    "- Distribution of numerical data\n",
    "- Identifies skewness, modality, and spread\n",
    "\n",
    "**Pros:**\n",
    "- Good for understanding the data distribution\n",
    "- Can show gaps, outliers, and clusters\n",
    "\n",
    "**Cons:**\n",
    "- Bins can obscure important details\n",
    "- Hard to compare multiple distributions\n",
    "\n",
    "**When to Use:**\n",
    "- When analyzing the distribution of a single numerical variable\n",
    "- When checking for skewness and modality\n",
    "\n",
    "**When Not to Use:**\n",
    "- When comparing distributions across multiple groups\n",
    "- For small datasets (distribution may be misleading)"
   ]
  },
  {
   "cell_type": "code",
   "execution_count": null,
   "id": "a4954216",
   "metadata": {},
   "outputs": [],
   "source": []
  },
  {
   "cell_type": "markdown",
   "id": "3afcca73",
   "metadata": {},
   "source": [
    "## 3. KDE Plot\n"
   ]
  },
  {
   "cell_type": "markdown",
   "id": "c40a5672",
   "metadata": {},
   "source": [
    "A **Kernel Density Estimate (KDE) plot** visualizes the probability density of a continuous variable. It provides a smooth estimate of the distribution of data points, which can help in understanding the underlying distribution and identifying patterns such as peaks, valleys, and spread.\n",
    "\n",
    "### Information Provided by the KDE Plot:\n",
    "1. **Density Estimation:** KDE plots provide an estimate of the probability density function of a continuous variable, showing where data points are concentrated.\n",
    "2. **Smooth Distribution:** Unlike histograms, KDE plots provide a smooth curve that represents the distribution, making it easier to identify patterns.\n",
    "3. **Peaks and Valleys:** The peaks in the KDE plot indicate areas with a high concentration of data points, while valleys indicate areas with fewer data points.\n",
    "4. **Spread and Skewness:** The width and shape of the KDE plot can provide insights into the spread and skewness of the data distribution.\n",
    "\n",
    "### Interpretation:\n",
    "1. **Peaks:** High peaks in the KDE plot indicate regions where data points are densely packed. Multiple peaks can suggest a multimodal distribution.\n",
    "2. **Spread:** The width of the KDE plot indicates the spread of the data. A wider plot suggests more variability, while a narrower plot suggests less variability.\n",
    "3. **Skewness:** The shape of the KDE plot can indicate skewness. If the plot is skewed to the right or left, it suggests that the data is not symmetrically distributed.\n",
    "4. **Comparisons:** When comparing KDE plots of different groups, you can identify differences in their distributions, such as shifts in central tendency or differences in spread.\n",
    "\n",
    "### Example: KDE Plot for Product Prices\n",
    "\n",
    "Let's create a KDE plot for the `Price` column in the dataset to visualize the distribution of product prices.\n",
    "\n",
    "### Code to Display a KDE Plot of Product Prices\n",
    "\n"
   ]
  },
  {
   "cell_type": "code",
   "execution_count": null,
   "id": "75513172",
   "metadata": {},
   "outputs": [],
   "source": [
    "# Histogram for the distribution of field sizes\n",
    "plt.figure(figsize=(8,6))\n",
    "sns.kdeplot(agri_df['Field_size'], fill= True)\n",
    "\n",
    "plt.title('KDE Plot of  Field Sizes')\n",
    "plt.xlabel('Field Size')\n",
    "plt.ylabel('Density')\n",
    "plt.show()"
   ]
  },
  {
   "cell_type": "code",
   "execution_count": 8,
   "id": "54c033bc",
   "metadata": {},
   "outputs": [
    {
     "data": {
      "text/plain": [
       "Index(['crop_yield', 'fertilizer_amount', 'soil_type', 'irrigation',\n",
       "       'crop_type', 'season', 'Field_size', 'Farmer_Age', 'Pesticide_Conc'],\n",
       "      dtype='object')"
      ]
     },
     "execution_count": 8,
     "metadata": {},
     "output_type": "execute_result"
    }
   ],
   "source": [
    "agri_df.columns"
   ]
  },
  {
   "cell_type": "code",
   "execution_count": null,
   "id": "fe1bc30a",
   "metadata": {},
   "outputs": [],
   "source": []
  },
  {
   "cell_type": "code",
   "execution_count": 11,
   "id": "ae5a82e8",
   "metadata": {},
   "outputs": [
    {
     "data": {
      "image/png": "[encoded data removed]",
      "text/plain": [
       "<Figure size 1200x600 with 1 Axes>"
      ]
     },
     "metadata": {},
     "output_type": "display_data"
    }
   ],
   "source": [
    "# Plot the boxplot for the Price column by Category\n",
    "plt.figure(figsize=(12, 6))\n",
    "sns.boxplot(x='crop_yield', y='soil_type', data=agri_df)\n",
    "plt.title('Boxplot of Product crop_yield by soil_type')\n",
    "plt.xlabel('crop_yield')\n",
    "plt.ylabel('soil_type')\n",
    "plt.xticks(rotation=45)\n",
    "plt.show()"
   ]
  },
  {
   "cell_type": "code",
   "execution_count": null,
   "id": "3c2949d2",
   "metadata": {},
   "outputs": [],
   "source": []
  },
  {
   "cell_type": "code",
   "execution_count": null,
   "id": "f811c7b3",
   "metadata": {},
   "outputs": [],
   "source": []
  },
  {
   "cell_type": "code",
   "execution_count": null,
   "id": "49b9027a",
   "metadata": {},
   "outputs": [],
   "source": []
  },
  {
   "cell_type": "markdown",
   "id": "cdf07a05",
   "metadata": {},
   "source": [
    "\n",
    "\n",
    "### Insight:\n",
    "A **Kernel Density Estimate (KDE) plot** visualizes the probability density of a continuous variable. It provides a smooth estimate of the distribution of data points, helping to identify patterns such as peaks, valleys, and spread."
   ]
  },
  {
   "cell_type": "markdown",
   "id": "9bff15ff",
   "metadata": {},
   "source": [
    "**Insights Conveyed:**\n",
    "- Smooth estimation of the probability density\n",
    "- Highlights peaks and patterns in continuous data\n",
    "\n",
    "**Pros:**\n",
    "- Provides a smooth representation of data\n",
    "- Useful for comparing multiple distributions\n",
    "\n",
    "**Cons:**\n",
    "- May introduce artifacts or misleading patterns\n",
    "- Sensitive to bandwidth selection\n",
    "\n",
    "**When to Use:**\n",
    "- When comparing multiple distributions\n",
    "- When visualizing continuous data with a smooth curve\n",
    "\n",
    "**When Not to Use:**\n",
    "- For datasets with too few points (may lead to over-smoothing)\n",
    "- When exact counts are needed (use histogram instead)"
   ]
  },
  {
   "cell_type": "code",
   "execution_count": null,
   "id": "e4509076",
   "metadata": {},
   "outputs": [],
   "source": []
  },
  {
   "cell_type": "markdown",
   "id": "24ffb692",
   "metadata": {},
   "source": [
    "## 4. Boxplot\n",
    "\n",
    "A **boxplot** provides a summary of the distribution of a dataset, showing the median, quartiles, and outliers."
   ]
  },
  {
   "cell_type": "markdown",
   "id": "c27583a0",
   "metadata": {},
   "source": [
    "### Boxplot\n",
    "\n",
    "A **boxplot** provides a summary of the distribution of a dataset, showing the median, quartiles, and outliers. It is a useful tool for identifying the central tendency, spread, and potential outliers in the data.\n",
    "\n",
    "### Information Provided by the Boxplot:\n",
    "1. **Median:** The line inside the box represents the median (50th percentile) of the data.\n",
    "2. **Quartiles:** The edges of the box represent the first quartile (25th percentile) and the third quartile (75th percentile). The interquartile range (IQR) is the distance between these quartiles.\n",
    "3. **Whiskers:** The lines extending from the box (whiskers) represent the range of the data within 1.5 times the IQR from the quartiles. Data points outside this range are considered outliers.\n",
    "4. **Outliers:** Individual points outside the whiskers are potential outliers, indicating data points that are significantly different from the rest of the dataset.\n",
    "\n",
    "### Interpretation:\n",
    "1. **Central Tendency:** The median line inside the box indicates the central value of the dataset.\n",
    "2. **Spread:** The width of the box (IQR) indicates the spread of the middle 50% of the data. A wider box suggests more variability, while a narrower box suggests less variability.\n",
    "3. **Symmetry:** If the median line is centered within the box, the data is symmetrically distributed. If it is closer to one edge, the data is skewed.\n",
    "4. **Outliers:** Points outside the whiskers are potential outliers, which may indicate unusual or extreme values in the dataset.\n",
    "\n",
    "### Example: Boxplot for Product Prices by Category\n",
    "\n",
    "Let's create a boxplot for the `Price` column in the dataset, grouped by `Category`, to visualize the distribution of product prices within each category.\n",
    "\n",
    "### Code to Display a Boxplot of Product Prices by Category\n",
    "\n"
   ]
  },
  {
   "cell_type": "code",
   "execution_count": 5,
   "id": "29987cf8",
   "metadata": {},
   "outputs": [],
   "source": [
    "import pandas as pd\n",
    "import matplotlib.pyplot as plt\n",
    "import seaborn as sns\n"
   ]
  },
  {
   "cell_type": "code",
   "execution_count": 6,
   "id": "129bfb5d",
   "metadata": {},
   "outputs": [
    {
     "ename": "NameError",
     "evalue": "name 'logi_df' is not defined",
     "output_type": "error",
     "traceback": [
      "\u001b[0;31m---------------------------------------------------------------------------\u001b[0m",
      "\u001b[0;31mNameError\u001b[0m                                 Traceback (most recent call last)",
      "Input \u001b[0;32mIn [6]\u001b[0m, in \u001b[0;36m<cell line: 6>\u001b[0;34m()\u001b[0m\n\u001b[1;32m      1\u001b[0m \u001b[38;5;66;03m# Load the dataset\u001b[39;00m\n\u001b[1;32m      2\u001b[0m \u001b[38;5;66;03m#logi_df = pd.read_csv('SenLogistics_warehouse_data.csv')\u001b[39;00m\n\u001b[1;32m      3\u001b[0m \n\u001b[1;32m      4\u001b[0m \u001b[38;5;66;03m# Plot the boxplot for the Price column by Category\u001b[39;00m\n\u001b[1;32m      5\u001b[0m plt\u001b[38;5;241m.\u001b[39mfigure(figsize\u001b[38;5;241m=\u001b[39m(\u001b[38;5;241m12\u001b[39m, \u001b[38;5;241m6\u001b[39m))\n\u001b[0;32m----> 6\u001b[0m sns\u001b[38;5;241m.\u001b[39mboxplot(x\u001b[38;5;241m=\u001b[39m\u001b[38;5;124m'\u001b[39m\u001b[38;5;124mCategory\u001b[39m\u001b[38;5;124m'\u001b[39m, y\u001b[38;5;241m=\u001b[39m\u001b[38;5;124m'\u001b[39m\u001b[38;5;124mPrice\u001b[39m\u001b[38;5;124m'\u001b[39m, data\u001b[38;5;241m=\u001b[39m\u001b[43mlogi_df\u001b[49m)\n\u001b[1;32m      7\u001b[0m plt\u001b[38;5;241m.\u001b[39mtitle(\u001b[38;5;124m'\u001b[39m\u001b[38;5;124mBoxplot of Product Prices by Category\u001b[39m\u001b[38;5;124m'\u001b[39m)\n\u001b[1;32m      8\u001b[0m plt\u001b[38;5;241m.\u001b[39mxlabel(\u001b[38;5;124m'\u001b[39m\u001b[38;5;124mCategory\u001b[39m\u001b[38;5;124m'\u001b[39m)\n",
      "\u001b[0;31mNameError\u001b[0m: name 'logi_df' is not defined"
     ]
    },
    {
     "data": {
      "text/plain": [
       "<Figure size 1200x600 with 0 Axes>"
      ]
     },
     "metadata": {},
     "output_type": "display_data"
    }
   ],
   "source": [
    "\n",
    "# Load the dataset\n",
    "#logi_df = pd.read_csv('SenLogistics_warehouse_data.csv')\n",
    "\n",
    "# Plot the boxplot for the Price column by Category\n",
    "plt.figure(figsize=(12, 6))\n",
    "sns.boxplot(x='Category', y='Price', data=logi_df)\n",
    "plt.title('Boxplot of Product Prices by Category')\n",
    "plt.xlabel('Category')\n",
    "plt.ylabel('Price')\n",
    "plt.xticks(rotation=45)\n",
    "plt.show()"
   ]
  },
  {
   "cell_type": "code",
   "execution_count": null,
   "id": "ea915fff",
   "metadata": {},
   "outputs": [],
   "source": [
    "plt.figure(figsize=(8, 6))\n",
    "sns.boxplot(x=agri_df['Farmer_Age'])\n",
    "plt.title('Boxplot of Farmer Age')\n",
    "plt.xlabel('Age')\n",
    "plt.xticks(rotation=45)\n",
    "plt.show()"
   ]
  },
  {
   "cell_type": "code",
   "execution_count": null,
   "id": "8bac9348",
   "metadata": {},
   "outputs": [],
   "source": [
    "plt.figure(figsize=(8, 6))\n",
    "sns.boxplot(x=agri_df['crop_yield'])\n",
    "plt.title('Boxplot of Crop Yield')\n",
    "plt.xlabel('Crop Yield')\n",
    "\n",
    "plt.xticks(rotation=45)\n",
    "plt.show()"
   ]
  },
  {
   "cell_type": "markdown",
   "id": "02189456",
   "metadata": {},
   "source": [
    "\n",
    "\n",
    "### Insight:\n",
    "A **boxplot** provides a summary of the distribution of a dataset, showing the median, quartiles, and outliers. This visualization helps identify the central tendency, spread, and potential outliers in the data."
   ]
  },
  {
   "cell_type": "markdown",
   "id": "3caf3ce9",
   "metadata": {},
   "source": [
    "**Insights Conveyed:**\n",
    "- Summary of distribution with quartiles and outliers\n",
    "- Identifies skewness and variability\n",
    "\n",
    "**Pros:**\n",
    "- Highlights outliers effectively\n",
    "- Useful for comparing distributions across groups\n",
    "\n",
    "**Cons:**\n",
    "- Limited in showing detailed distribution information\n",
    "- Not suitable for small datasets\n",
    "\n",
    "**When to Use:**\n",
    "- When identifying outliers in data\n",
    "- When comparing distributions across categories\n",
    "\n",
    "**When Not to Use:**\n",
    "- When detailed distribution information is needed\n",
    "- For small datasets (may not be informative)"
   ]
  },
  {
   "cell_type": "markdown",
   "id": "483a8a0e",
   "metadata": {},
   "source": [
    "## 5. Grouped Boxplot\n",
    "\n",
    "A **grouped boxplot** allows comparison of distributions across multiple categories.  It provides a visual summary of the distribution of a dataset for different groups, showing the median, quartiles, and outliers for each group.\n"
   ]
  },
  {
   "cell_type": "code",
   "execution_count": null,
   "id": "db373e94",
   "metadata": {},
   "outputs": [],
   "source": [
    "# Grouped Boxplot using Seaborn\n",
    "plt.figure(figsize=(10,6))\n",
    "sns.boxplot(x='crop_type', y='crop_yield', hue='crop_type', data=agri_df, palette='Set3')\n",
    "plt.title('Boxplot of Crop Yield by Crop Type')\n",
    "plt.xlabel('crop_type')\n",
    "plt.ylabel('Crop Yield')\n",
    "plt.legend(title='Crop Type')\n",
    "plt.show()"
   ]
  },
  {
   "cell_type": "code",
   "execution_count": null,
   "id": "fa6368f0",
   "metadata": {},
   "outputs": [],
   "source": [
    "plt.figure(figsize=(10,6))\n",
    "sns.boxplot(x='crop_type', y='crop_yield', hue='irrigation', data=agri_df)\n",
    "plt.title('Boxplot of Crop Yield by Crop Type and Irrigation Status')\n",
    "plt.xlabel('crop_type')\n",
    "plt.ylabel('Crop Yield')\n",
    "plt.legend(title='Igrrigation Status')\n",
    "plt.show()"
   ]
  },
  {
   "cell_type": "markdown",
   "id": "8f468a44",
   "metadata": {},
   "source": [
    "**Insights Conveyed:**\n",
    "- Comparison of distributions across multiple categories\n",
    "- Highlights differences in medians, quartiles, and outliers\n",
    "\n",
    "**Pros:**\n",
    "- Effective for comparing multiple distributions\n",
    "- Highlights outliers and group-level variations\n",
    "\n",
    "**Cons:**\n",
    "- Can become cluttered with too many groups\n",
    "- Not suitable for very small datasets\n",
    "\n",
    "**When to Use:**\n",
    "- When comparing distributions across multiple groups\n",
    "- When visualizing variations and outliers in group data\n",
    "\n",
    "**When Not to Use:**\n",
    "- For large datasets with many categories (cluttered plot)\n",
    "- When detailed patterns within groups are needed"
   ]
  },
  {
   "cell_type": "markdown",
   "id": "d0854f6b",
   "metadata": {},
   "source": [
    "We can also display a group of kde plots"
   ]
  },
  {
   "cell_type": "code",
   "execution_count": null,
   "id": "597b2e5f",
   "metadata": {},
   "outputs": [],
   "source": [
    "plt.figure(figsize=(8, 6))\n",
    "sns.kdeplot(data=agri_df, x=\"Pesticide_Conc\", hue=\"soil_type\", multiple=\"stack\")\n"
   ]
  },
  {
   "cell_type": "markdown",
   "id": "0755baed",
   "metadata": {},
   "source": []
  }
 ],
 "metadata": {
  "kernelspec": {
   "display_name": "Python 3 (ipykernel)",
   "language": "python",
   "name": "python3"
  },
  "language_info": {
   "codemirror_mode": {
    "name": "ipython",
    "version": 3
   },
   "file_extension": ".py",
   "mimetype": "text/x-python",
   "name": "python",
   "nbconvert_exporter": "python",
   "pygments_lexer": "ipython3",
   "version": "3.10.12"
  }
 },
 "nbformat": 4,
 "nbformat_minor": 5
}
